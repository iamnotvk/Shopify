{
  "cells": [
    {
      "cell_type": "code",
      "execution_count": null,
      "metadata": {
        "id": "ry__HtgWC0zJ"
      },
      "outputs": [],
      "source": [
        "import os\n",
        "import numpy as np\n",
        "import pandas as pd\n",
        "\n",
        "import matplotlib.pyplot as plt\n",
        "%matplotlib inline\n",
        "\n",
        "import seaborn as sns\n",
        "\n",
        "import scipy.stats\n",
        "\n",
        "import warnings\n",
        "warnings.simplefilter('ignore')"
      ]
    },
    {
      "cell_type": "code",
      "execution_count": null,
      "metadata": {
        "id": "fGntTogbC0zR"
      },
      "outputs": [],
      "source": [
        "pd.options.display.max_rows = 100"
      ]
    },
    {
      "cell_type": "code",
      "execution_count": null,
      "metadata": {
        "id": "u-oAlLP9C0zS",
        "outputId": "3325380c-f681-4619-a994-f664d6f30199"
      },
      "outputs": [
        {
          "data": {
            "text/plain": [
              "(5000, 7)"
            ]
          },
          "execution_count": 8,
          "metadata": {},
          "output_type": "execute_result"
        }
      ],
      "source": [
        "df = pd.read_csv('../data/data.csv', parse_dates=['created_at'])\n",
        "df.shape"
      ]
    },
    {
      "cell_type": "code",
      "execution_count": null,
      "metadata": {
        "id": "r_la5BLyC0zV",
        "outputId": "ba3201bc-9d01-429a-da32-c53c1798f740"
      },
      "outputs": [
        {
          "data": {
            "text/html": [
              "<div>\n",
              "<style scoped>\n",
              "    .dataframe tbody tr th:only-of-type {\n",
              "        vertical-align: middle;\n",
              "    }\n",
              "\n",
              "    .dataframe tbody tr th {\n",
              "        vertical-align: top;\n",
              "    }\n",
              "\n",
              "    .dataframe thead th {\n",
              "        text-align: right;\n",
              "    }\n",
              "</style>\n",
              "<table border=\"1\" class=\"dataframe\">\n",
              "  <thead>\n",
              "    <tr style=\"text-align: right;\">\n",
              "      <th></th>\n",
              "      <th>order_id</th>\n",
              "      <th>shop_id</th>\n",
              "      <th>user_id</th>\n",
              "      <th>order_amount</th>\n",
              "      <th>total_items</th>\n",
              "      <th>payment_method</th>\n",
              "      <th>created_at</th>\n",
              "    </tr>\n",
              "  </thead>\n",
              "  <tbody>\n",
              "    <tr>\n",
              "      <th>0</th>\n",
              "      <td>1</td>\n",
              "      <td>53</td>\n",
              "      <td>746</td>\n",
              "      <td>224</td>\n",
              "      <td>2</td>\n",
              "      <td>cash</td>\n",
              "      <td>2017-03-13 12:36:56</td>\n",
              "    </tr>\n",
              "    <tr>\n",
              "      <th>1</th>\n",
              "      <td>2</td>\n",
              "      <td>92</td>\n",
              "      <td>925</td>\n",
              "      <td>90</td>\n",
              "      <td>1</td>\n",
              "      <td>cash</td>\n",
              "      <td>2017-03-03 17:38:52</td>\n",
              "    </tr>\n",
              "    <tr>\n",
              "      <th>2</th>\n",
              "      <td>3</td>\n",
              "      <td>44</td>\n",
              "      <td>861</td>\n",
              "      <td>144</td>\n",
              "      <td>1</td>\n",
              "      <td>cash</td>\n",
              "      <td>2017-03-14 04:23:56</td>\n",
              "    </tr>\n",
              "    <tr>\n",
              "      <th>3</th>\n",
              "      <td>4</td>\n",
              "      <td>18</td>\n",
              "      <td>935</td>\n",
              "      <td>156</td>\n",
              "      <td>1</td>\n",
              "      <td>credit_card</td>\n",
              "      <td>2017-03-26 12:43:37</td>\n",
              "    </tr>\n",
              "    <tr>\n",
              "      <th>4</th>\n",
              "      <td>5</td>\n",
              "      <td>18</td>\n",
              "      <td>883</td>\n",
              "      <td>156</td>\n",
              "      <td>1</td>\n",
              "      <td>credit_card</td>\n",
              "      <td>2017-03-01 04:35:11</td>\n",
              "    </tr>\n",
              "  </tbody>\n",
              "</table>\n",
              "</div>"
            ],
            "text/plain": [
              "   order_id  shop_id  user_id  order_amount  total_items payment_method  \\\n",
              "0         1       53      746           224            2           cash   \n",
              "1         2       92      925            90            1           cash   \n",
              "2         3       44      861           144            1           cash   \n",
              "3         4       18      935           156            1    credit_card   \n",
              "4         5       18      883           156            1    credit_card   \n",
              "\n",
              "           created_at  \n",
              "0 2017-03-13 12:36:56  \n",
              "1 2017-03-03 17:38:52  \n",
              "2 2017-03-14 04:23:56  \n",
              "3 2017-03-26 12:43:37  \n",
              "4 2017-03-01 04:35:11  "
            ]
          },
          "execution_count": 9,
          "metadata": {},
          "output_type": "execute_result"
        }
      ],
      "source": [
        "df.head()"
      ]
    },
    {
      "cell_type": "markdown",
      "metadata": {
        "id": "wuXRMYlSC0zW"
      },
      "source": [
        "### Naive AOV method : "
      ]
    },
    {
      "cell_type": "code",
      "execution_count": null,
      "metadata": {
        "id": "dCs1NgPeC0zZ",
        "outputId": "5a5e4166-4774-41de-cadd-9bde1837d46a"
      },
      "outputs": [
        {
          "data": {
            "text/plain": [
              "3145.128"
            ]
          },
          "execution_count": 106,
          "metadata": {},
          "output_type": "execute_result"
        }
      ],
      "source": [
        "df['order_amount'].mean()"
      ]
    },
    {
      "cell_type": "code",
      "execution_count": null,
      "metadata": {
        "id": "Ct5xq_CwC0zb"
      },
      "outputs": [],
      "source": [
        ""
      ]
    },
    {
      "cell_type": "markdown",
      "metadata": {
        "id": "TAHff_pFC0zd"
      },
      "source": [
        "Lets check why is the reason that we're getting such a high average order value when each shop only sells only one kind of sneaker(which are usually cheap)"
      ]
    },
    {
      "cell_type": "code",
      "execution_count": null,
      "metadata": {
        "id": "CH3CyDCvC0ze",
        "outputId": "1e4c31b6-2cd1-44f7-bccf-98faed4ebe2a"
      },
      "outputs": [
        {
          "data": {
            "image/png": "[encoded data removed]",
            "text/plain": [
              "<Figure size 1152x432 with 1 Axes>"
            ]
          },
          "metadata": {
            "needs_background": "light"
          },
          "output_type": "display_data"
        }
      ],
      "source": [
        "# Order Amount Distribution Plot\n",
        "\n",
        "plt.figure(figsize=(16, 6))\n",
        "sns.distplot(df['order_amount'])\n",
        "plt.show()"
      ]
    },
    {
      "cell_type": "markdown",
      "metadata": {
        "id": "zjQKplnTC0zg"
      },
      "source": [
        "It seems that we have too many outliers (right skewed) which is causing our average be very high than normal."
      ]
    },
    {
      "cell_type": "code",
      "execution_count": null,
      "metadata": {
        "id": "n1ik9SeLC0zh",
        "outputId": "642b16df-92be-4cf3-f8ef-7119797dac97"
      },
      "outputs": [
        {
          "data": {
            "text/html": [
              "<div>\n",
              "<style scoped>\n",
              "    .dataframe tbody tr th:only-of-type {\n",
              "        vertical-align: middle;\n",
              "    }\n",
              "\n",
              "    .dataframe tbody tr th {\n",
              "        vertical-align: top;\n",
              "    }\n",
              "\n",
              "    .dataframe thead th {\n",
              "        text-align: right;\n",
              "    }\n",
              "</style>\n",
              "<table border=\"1\" class=\"dataframe\">\n",
              "  <thead>\n",
              "    <tr style=\"text-align: right;\">\n",
              "      <th></th>\n",
              "      <th>order_amount</th>\n",
              "    </tr>\n",
              "  </thead>\n",
              "  <tbody>\n",
              "    <tr>\n",
              "      <th>count</th>\n",
              "      <td>5000.000000</td>\n",
              "    </tr>\n",
              "    <tr>\n",
              "      <th>mean</th>\n",
              "      <td>3145.128000</td>\n",
              "    </tr>\n",
              "    <tr>\n",
              "      <th>std</th>\n",
              "      <td>41282.539349</td>\n",
              "    </tr>\n",
              "    <tr>\n",
              "      <th>min</th>\n",
              "      <td>90.000000</td>\n",
              "    </tr>\n",
              "    <tr>\n",
              "      <th>25%</th>\n",
              "      <td>163.000000</td>\n",
              "    </tr>\n",
              "    <tr>\n",
              "      <th>50%</th>\n",
              "      <td>284.000000</td>\n",
              "    </tr>\n",
              "    <tr>\n",
              "      <th>75%</th>\n",
              "      <td>390.000000</td>\n",
              "    </tr>\n",
              "    <tr>\n",
              "      <th>max</th>\n",
              "      <td>704000.000000</td>\n",
              "    </tr>\n",
              "  </tbody>\n",
              "</table>\n",
              "</div>"
            ],
            "text/plain": [
              "        order_amount\n",
              "count    5000.000000\n",
              "mean     3145.128000\n",
              "std     41282.539349\n",
              "min        90.000000\n",
              "25%       163.000000\n",
              "50%       284.000000\n",
              "75%       390.000000\n",
              "max    704000.000000"
            ]
          },
          "execution_count": 31,
          "metadata": {},
          "output_type": "execute_result"
        }
      ],
      "source": [
        "df[['order_amount']].describe()"
      ]
    },
    {
      "cell_type": "markdown",
      "metadata": {
        "id": "1M_HqfxhC0zi"
      },
      "source": [
        "Here we can see that almost 75% of the order amounts is <=390."
      ]
    },
    {
      "cell_type": "markdown",
      "metadata": {
        "id": "lv555SttC0zk"
      },
      "source": [
        "## To tackle this problem I have two kind of approaches : \n",
        "\n",
        "- Approach A : Here we change the evaluation metric (currently AOV (average order value)) which is robust to outliers.\n",
        "- Approach B : Here we keep the evaluation metric (currently AOV (average order value)) intact but change the data distribution i.e remove the outliers. "
      ]
    },
    {
      "cell_type": "markdown",
      "metadata": {
        "id": "suD9FPYHC0zl"
      },
      "source": [
        "## Approach A\n",
        "\n",
        "In this approach I'm presenting two metrics which can be used : \n",
        "\n",
        "1. Percentile / Quantile Method : We can assume a quantile number (example : 0.8 quantile) as quantiles/percentiles are robust against outliers.\n",
        "2. Median : A simple and naive solution to outliers"
      ]
    },
    {
      "cell_type": "code",
      "execution_count": null,
      "metadata": {
        "id": "3dlGPcKeC0zl",
        "outputId": "616064ec-9856-43f2-89f1-fbb8427fcf48"
      },
      "outputs": [
        {
          "name": "stdout",
          "output_type": "stream",
          "text": [
            "Value Reported using Approach A.1 (Percentile Method):  444.00\n"
          ]
        }
      ],
      "source": [
        "# A.1. Percentile / Quantile Method : \n",
        "## I'm assuming quantile as 0.8 here : \n",
        "\n",
        "quantile_val = 0.8\n",
        "result = np.quantile(df['order_amount'], quantile_val)\n",
        "\n",
        "print(f\"Value Reported using Approach A.1 (Percentile Method): {result: .2f}\")"
      ]
    },
    {
      "cell_type": "code",
      "execution_count": null,
      "metadata": {
        "id": "VPbBKWcaC0zm",
        "outputId": "1fbd6ebc-67dd-4ca0-aa15-45372008a654"
      },
      "outputs": [
        {
          "name": "stdout",
          "output_type": "stream",
          "text": [
            "Value Reported using Approach A.2 (Median Method):  284.00\n"
          ]
        }
      ],
      "source": [
        "# A.2. Percentile / Quantile Method : \n",
        "\n",
        "result = df['order_amount'].median()\n",
        "\n",
        "print(f\"Value Reported using Approach A.2 (Median Method): {result: .2f}\")"
      ]
    },
    {
      "cell_type": "markdown",
      "metadata": {
        "id": "YKNfDsfdC0zn"
      },
      "source": [
        "## Approach B\n",
        "\n",
        "In this approach I make changes to the internal data distribution instead of change the evaluation metric i.e in laymann terms removing the outliers.\n",
        "\n",
        "NOTE :: The evaluation metric is kept the same i.e AOV (Average Order Value)"
      ]
    },
    {
      "cell_type": "markdown",
      "metadata": {
        "id": "jCb_H5IAC0zo"
      },
      "source": [
        "### To remove outliers I'm using z-score method\n",
        "I'm considering a 3-sigma as a good value to remove most outliers i.e any datapoint which is 3 standard deviations aways from mean would be removed."
      ]
    },
    {
      "cell_type": "code",
      "execution_count": null,
      "metadata": {
        "id": "UyYlMvP7C0zp"
      },
      "outputs": [],
      "source": [
        "def outlier_removal(df: pd.DataFrame, sigma: int=3): \n",
        "    df['zscore'] = (df.order_amount - df.order_amount.mean() ) / df.order_amount.std()\n",
        "    \n",
        "    print(\"Removing the below Outliers :\")\n",
        "    print(df[(df['zscore'] >= +(sigma)) | (df['zscore'] <= -(sigma))][['order_amount']])\n",
        "    \n",
        "    # standard deviation  >+-3sigma\n",
        "    df = df[(df['zscore'] <= +(sigma)) & (df['zscore'] >= -(sigma))]\n",
        "   \n",
        "    return df"
      ]
    },
    {
      "cell_type": "code",
      "execution_count": null,
      "metadata": {
        "id": "BAFwxQkyC0zp",
        "outputId": "5bbf08a7-ab3f-4383-b2bb-811052c3875e"
      },
      "outputs": [
        {
          "name": "stdout",
          "output_type": "stream",
          "text": [
            "Removing the below Outliers :\n",
            "      order_amount\n",
            "15          704000\n",
            "60          704000\n",
            "520         704000\n",
            "691         154350\n",
            "1104        704000\n",
            "1362        704000\n",
            "1436        704000\n",
            "1562        704000\n",
            "1602        704000\n",
            "2153        704000\n",
            "2297        704000\n",
            "2835        704000\n",
            "2969        704000\n",
            "3332        704000\n",
            "4056        704000\n",
            "4646        704000\n",
            "4868        704000\n",
            "4882        704000\n"
          ]
        },
        {
          "data": {
            "text/plain": [
              "((4982, 2), (5000, 7))"
            ]
          },
          "execution_count": 92,
          "metadata": {},
          "output_type": "execute_result"
        }
      ],
      "source": [
        "df_no_outliers = outlier_removal(df[['order_amount']], sigma=3)\n",
        "df_no_outliers.shape, df.shape"
      ]
    },
    {
      "cell_type": "markdown",
      "metadata": {
        "id": "qsWn_j2lC0zq"
      },
      "source": [
        "We can see that 18 records/outliers have been removed by this method and all of those orders have very high order amount."
      ]
    },
    {
      "cell_type": "code",
      "execution_count": null,
      "metadata": {
        "id": "rggT-x56C0zr",
        "outputId": "705f538b-fe6f-41c5-e1a8-bc9c0b4757aa"
      },
      "outputs": [
        {
          "data": {
            "image/png": "[encoded data removed]",
            "text/plain": [
              "<Figure size 1152x432 with 1 Axes>"
            ]
          },
          "metadata": {
            "needs_background": "light"
          },
          "output_type": "display_data"
        }
      ],
      "source": [
        "# New Order Amount Distribution Plot\n",
        "\n",
        "plt.figure(figsize=(16, 6))\n",
        "sns.distplot(df_no_outliers['order_amount'])\n",
        "plt.show()"
      ]
    },
    {
      "cell_type": "markdown",
      "metadata": {
        "id": "VAu60kH8C0zs"
      },
      "source": [
        "Even though we can still see a right skew but that can all be tuned by changing our sigma value while removing outliers."
      ]
    },
    {
      "cell_type": "markdown",
      "metadata": {
        "id": "LqqEI9XCC0zs"
      },
      "source": [
        "### Recalculating all the evaluation metrics after removing outliers : "
      ]
    },
    {
      "cell_type": "code",
      "execution_count": null,
      "metadata": {
        "id": "0b7vLsJ8C0zt",
        "outputId": "4e88d98b-9a60-468f-d31a-61cb425a5de3"
      },
      "outputs": [
        {
          "name": "stdout",
          "output_type": "stream",
          "text": [
            "Average Order Value after removal of Outliers :  723.26\n"
          ]
        }
      ],
      "source": [
        "# Average Order Value (AOV) : \n",
        "\n",
        "result = df_no_outliers['order_amount'].mean()\n",
        "print(f\"Average Order Value after removal of Outliers : {result: .2f}\")"
      ]
    },
    {
      "cell_type": "markdown",
      "metadata": {
        "id": "RskYIr7DC0zu"
      },
      "source": [
        "Just after removal of 18 outliers we can see that the AOV has dropped from **3145.128 to 723.26**"
      ]
    },
    {
      "cell_type": "code",
      "execution_count": null,
      "metadata": {
        "id": "_48rMi1AC0zu",
        "outputId": "b47a6b1b-c3a4-483b-c678-bc149fd14348"
      },
      "outputs": [
        {
          "name": "stdout",
          "output_type": "stream",
          "text": [
            "Value Reported using Approach A.1 (Percentile Method) after removal of Outliers:  440.40\n"
          ]
        }
      ],
      "source": [
        "# A.1. Percentile / Quantile Method : \n",
        "## I'm assuming quantile as 0.8 here : \n",
        "\n",
        "quantile_val = 0.8\n",
        "result = np.quantile(df_no_outliers['order_amount'], quantile_val)\n",
        "\n",
        "print(f\"Value Reported using Approach A.1 (Percentile Method) after removal of Outliers: {result: .2f}\")"
      ]
    },
    {
      "cell_type": "markdown",
      "metadata": {
        "id": "VpdRRIh0C0zu"
      },
      "source": [
        "Even after removal of outliers we can see that the **this evalution metric score has not changed much** | **444.00 to 440.40**; this indicates that this method is **very robust to outliers**"
      ]
    },
    {
      "cell_type": "code",
      "execution_count": null,
      "metadata": {
        "id": "6M0xxwEOC0zu",
        "outputId": "bd9995c8-6fbc-4d39-9e14-79ec03283556"
      },
      "outputs": [
        {
          "name": "stdout",
          "output_type": "stream",
          "text": [
            "Value Reported using Approach A.2 (Median Method):  284.00\n"
          ]
        }
      ],
      "source": [
        "# A.2. Percentile / Quantile Method : \n",
        "\n",
        "result = df_no_outliers['order_amount'].median()\n",
        "\n",
        "print(f\"Value Reported using Approach A.2 (Median Method): {result: .2f}\")"
      ]
    },
    {
      "cell_type": "markdown",
      "metadata": {
        "id": "A_T3CX9BC0zv"
      },
      "source": [
        "Median is always **constant** i.e no change"
      ]
    },
    {
      "cell_type": "code",
      "execution_count": null,
      "metadata": {
        "id": "LH1MDMxKC0zv"
      },
      "outputs": [],
      "source": [
        ""
      ]
    }
  ],
  "metadata": {
    "kernelspec": {
      "display_name": "Python 3",
      "language": "python",
      "name": "python3"
    },
    "language_info": {
      "codemirror_mode": {
        "name": "ipython",
        "version": 3
      },
      "file_extension": ".py",
      "mimetype": "text/x-python",
      "name": "python",
      "nbconvert_exporter": "python",
      "pygments_lexer": "ipython3",
      "version": "3.8.5"
    },
    "colab": {
      "name": "solution.ipynb",
      "provenance": []
    }
  },
  "nbformat": 4,
  "nbformat_minor": 0
}